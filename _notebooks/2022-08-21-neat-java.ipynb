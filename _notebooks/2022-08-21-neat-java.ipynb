{
 "cells": [
  {
   "cell_type": "code",
   "execution_count": 1,
   "metadata": {},
   "outputs": [
    {
     "name": "stdout",
     "output_type": "stream",
     "text": [
      "Hello!\n"
     ]
    }
   ],
   "source": [
    "System.out.println(\"Hello!\");"
   ]
  }
 ],
 "metadata": {
  "kernelspec": {
   "display_name": "Java 11 64-bit",
   "language": "java",
   "name": "java"
  },
  "language_info": {
   "codemirror_mode": {
    "name": "java",
    "version": 11
   },
   "file_extension": ".java",
   "mimetype": "text/x-java",
   "name": "java",
   "nbconvert_exporter": "java",
   "pygments_lexer": "java",
   "version": "11"
  },
  "orig_nbformat": 4,
  "vscode": {
   "interpreter": {
    "hash": "949777d72b0d2535278d3dc13498b2535136f6dfe0678499012e853ee9abcab1"
   }
  }
 },
 "nbformat": 4,
 "nbformat_minor": 2
}
